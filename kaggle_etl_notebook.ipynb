{
 "cells": [
  {
   "cell_type": "code",
   "execution_count": 8,
   "metadata": {},
   "outputs": [],
   "source": [
    "#import dependencies\n",
    "import pandas as pd\n",
    "import numpy as py\n",
    "import os\n",
    "import sys\n",
    "import glob\n",
    "import warnings\n",
    "\n",
    "\n",
    "import sqlalchemy\n",
    "from sqlalchemy.ext.automap import automap_base\n",
    "from sqlalchemy.orm import Session\n",
    "from sqlalchemy import create_engine, inspect, func"
   ]
  },
  {
   "cell_type": "code",
   "execution_count": 10,
   "metadata": {},
   "outputs": [
    {
     "name": "stdout",
     "output_type": "stream",
     "text": [
      "DataFiles\\Cities.csv\n",
      "DataFiles\\Conferences.csv\n",
      "DataFiles\\ConferenceTourneyGames.csv\n",
      "DataFiles\\GameCities.csv\n",
      "DataFiles\\NCAATourneyCompactResults.csv\n",
      "DataFiles\\NCAATourneyDetailedResults.csv\n",
      "DataFiles\\NCAATourneySeedRoundSlots.csv\n",
      "DataFiles\\NCAATourneySeeds.csv\n",
      "DataFiles\\NCAATourneySlots.csv\n",
      "DataFiles\\RegularSeasonCompactResults.csv\n",
      "DataFiles\\RegularSeasonDetailedResults.csv\n",
      "DataFiles\\Seasons.csv\n",
      "DataFiles\\SecondaryTourneyCompactResults.csv\n",
      "DataFiles\\SecondaryTourneyTeams.csv\n",
      "DataFiles\\TeamCoaches.csv\n",
      "DataFiles\\TeamConferences.csv\n",
      "DataFiles\\Teams.csv\n",
      "DataFiles\\TeamSpellings.csv\n"
     ]
    }
   ],
   "source": [
    "path = 'DataFiles/*.csv'\n",
    "\n",
    "for fname in glob.glob(path):\n",
    "    print(fname)"
   ]
  },
  {
   "cell_type": "code",
   "execution_count": null,
   "metadata": {},
   "outputs": [],
   "source": []
  }
 ],
 "metadata": {
  "kernelspec": {
   "display_name": "Python 3",
   "language": "python",
   "name": "python3"
  },
  "language_info": {
   "codemirror_mode": {
    "name": "ipython",
    "version": 3
   },
   "file_extension": ".py",
   "mimetype": "text/x-python",
   "name": "python",
   "nbconvert_exporter": "python",
   "pygments_lexer": "ipython3",
   "version": "3.7.0"
  }
 },
 "nbformat": 4,
 "nbformat_minor": 2
}
